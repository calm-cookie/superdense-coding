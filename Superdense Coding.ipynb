{
 "cells": [
  {
   "cell_type": "markdown",
   "metadata": {},
   "source": [
    "# Superdense Coding"
   ]
  },
  {
   "cell_type": "code",
   "execution_count": 7,
   "metadata": {},
   "outputs": [],
   "source": [
    "import qiskit as q\n",
    "import numpy as np\n",
    "import matplotlib as mpl"
   ]
  },
  {
   "cell_type": "code",
   "execution_count": 13,
   "metadata": {},
   "outputs": [
    {
     "name": "stdout",
     "output_type": "stream",
     "text": [
      "10\n"
     ]
    }
   ],
   "source": [
    "# preparation of the random message of be communicated\n",
    "classical_bits = ['00', '01', '10', '11']\n",
    "\n",
    "message = np.random.choice(classical_bits)\n",
    "\n",
    "print(message)"
   ]
  },
  {
   "cell_type": "code",
   "execution_count": 14,
   "metadata": {},
   "outputs": [
    {
     "name": "stdout",
     "output_type": "stream",
     "text": [
      "Operator([[ 0.+0.j,  1.-0.j],\n",
      "          [-1.+0.j,  0.+0.j]],\n",
      "         input_dims=(2,), output_dims=(2,))\n"
     ]
    }
   ],
   "source": [
    "# Preparation of iY gate to be used. Note that iY gate is simply X-Z gate. \n",
    "# But it's a good exercise to learn how any unitary matrix is converted to a quantum gate.\n",
    "Y = np.array([\n",
    "    [0, -1j],\n",
    "    [1j, 0]\n",
    "])\n",
    "\n",
    "iY = 1j * Y\n",
    "\n",
    "iY_op = q.quantum_info.Operator(iY)\n",
    "print(iY_op)"
   ]
  },
  {
   "cell_type": "code",
   "execution_count": 15,
   "metadata": {},
   "outputs": [
    {
     "data": {
      "image/png": "[encoded data removed]",
      "text/plain": [
       "<Figure size 387.452x204.68 with 1 Axes>"
      ]
     },
     "execution_count": 15,
     "metadata": {},
     "output_type": "execute_result"
    }
   ],
   "source": [
    "qc = q.QuantumCircuit(2, 2)\n",
    "\n",
    "# Preparation of entangled qubits to be shared by Alice and Bob\n",
    "qc.h(0)\n",
    "qc.cx(0, 1)\n",
    "qc.barrier()\n",
    "\n",
    "# Alice performs operations depending upon the message to be communicated\n",
    "if message == '01':\n",
    "    qc.z(0)\n",
    "    qc.barrier()\n",
    "    \n",
    "elif message == '10':\n",
    "    qc.x(0)\n",
    "    qc.barrier()\n",
    "    \n",
    "elif message == '11':\n",
    "    qc.unitary(iY_op, [0], label='iY')\n",
    "    qc.barrier()\n",
    "    \n",
    "qc.draw(output='mpl')"
   ]
  },
  {
   "cell_type": "code",
   "execution_count": 16,
   "metadata": {},
   "outputs": [
    {
     "data": {
      "image/png": "[encoded data removed]",
      "text/plain": [
       "<Figure size 688.452x204.68 with 1 Axes>"
      ]
     },
     "execution_count": 16,
     "metadata": {},
     "output_type": "execute_result"
    }
   ],
   "source": [
    "# Alice send her qubit to Bob\n",
    "# Bob performs operations on the entangled pair\n",
    "qc.cx(0, 1)\n",
    "qc.h(0)\n",
    "qc.barrier()\n",
    "\n",
    "# Bob measures the qubits to get the message\n",
    "qc.measure([0, 1], [0, 1])\n",
    "qc.draw(output='mpl')"
   ]
  },
  {
   "cell_type": "code",
   "execution_count": 17,
   "metadata": {},
   "outputs": [
    {
     "data": {
      "image/png": "[encoded data removed]",
      "text/plain": [
       "<Figure size 504x360 with 1 Axes>"
      ]
     },
     "metadata": {},
     "output_type": "display_data"
    }
   ],
   "source": [
    "# execute the circuit on a qasm simulator\n",
    "backend = q.Aer.get_backend('qasm_simulator')\n",
    "job = q.execute(qc, backend)\n",
    "result = job.result()\n",
    "counts = result.get_counts()\n",
    "\n",
    "graph = q.visualization.plot_histogram(counts)\n",
    "display(graph)\n",
    "\n",
    "# The probability of getting the message = 1"
   ]
  }
 ],
 "metadata": {
  "kernelspec": {
   "display_name": "Python 3",
   "language": "python",
   "name": "python3"
  },
  "language_info": {
   "codemirror_mode": {
    "name": "ipython",
    "version": 3
   },
   "file_extension": ".py",
   "mimetype": "text/x-python",
   "name": "python",
   "nbconvert_exporter": "python",
   "pygments_lexer": "ipython3",
   "version": "3.7.4"
  }
 },
 "nbformat": 4,
 "nbformat_minor": 2
}
